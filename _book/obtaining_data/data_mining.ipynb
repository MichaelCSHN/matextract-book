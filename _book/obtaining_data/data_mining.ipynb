{
 "cells": [
  {
   "cell_type": "markdown",
   "id": "1a69b55434e43e67",
   "metadata": {
    "collapsed": false
   },
   "source": [
    "## Mining data from ChemRxiv\n",
    "\n",
    "There are multiple datasets available which are open for data mining.  \n",
    "To download full text documents from open access databases the [paperscraper](https://github.com/jannisborn/paperscraper) tool can be used. \n",
    "\n",
    "As an example, we will download full text articles from ChemRxiv on the topic of 'buchwald-hartwig coupling'."
   ]
  },
  {
   "cell_type": "code",
   "execution_count": 1,
   "id": "250aba7a3f3bb866",
   "metadata": {
    "collapsed": false
   },
   "outputs": [
    {
     "ename": "ModuleNotFoundError",
     "evalue": "No module named 'paperscraper'",
     "output_type": "error",
     "traceback": [
      "\u001b[0;31m---------------------------------------------------------------------------\u001b[0m",
      "\u001b[0;31mModuleNotFoundError\u001b[0m                       Traceback (most recent call last)",
      "Cell \u001b[0;32mIn[1], line 1\u001b[0m\n\u001b[0;32m----> 1\u001b[0m \u001b[38;5;28;01mfrom\u001b[39;00m \u001b[38;5;21;01mpaperscraper\u001b[39;00m\u001b[38;5;21;01m.\u001b[39;00m\u001b[38;5;21;01mget_dumps\u001b[39;00m \u001b[38;5;28;01mimport\u001b[39;00m chemrxiv\n\u001b[1;32m      3\u001b[0m \u001b[38;5;66;03m# Download of the ChemRxiv paper dump\u001b[39;00m\n\u001b[1;32m      4\u001b[0m chemrxiv(save_path\u001b[38;5;241m=\u001b[39m\u001b[38;5;124m'\u001b[39m\u001b[38;5;124mchemrxiv_2020-11-10.jsonl\u001b[39m\u001b[38;5;124m'\u001b[39m)\n",
      "\u001b[0;31mModuleNotFoundError\u001b[0m: No module named 'paperscraper'"
     ]
    }
   ],
   "source": [
    "from paperscraper.get_dumps import chemrxiv\n",
    "\n",
    "# Download of the ChemRxiv paper dump\n",
    "chemrxiv(save_path='chemrxiv_2020-11-10.jsonl')"
   ]
  },
  {
   "cell_type": "code",
   "execution_count": null,
   "id": "de30d1a7afb79621",
   "metadata": {
    "collapsed": false
   },
   "outputs": [],
   "source": [
    "from paperscraper.xrxiv.xrxiv_query import XRXivQuery\n",
    "from paperscraper.pdf import save_pdf_from_dump\n",
    "import pandas as pd\n",
    "\n",
    "df = pd.read_json('./chemrxiv_2020-11-10.jsonl', lines=True)\n",
    "\n",
    "# define keywords for the paper search\n",
    "synthesis = ['synthesis']\n",
    "reaction = ['buchwald-hartwig']\n",
    "\n",
    "# combine keywords using \"AND\" logic, i.e. search for papers that contain both keywords\n",
    "query = [synthesis, reaction]\n",
    "\n",
    "# start searching for relevant papers in the ChemRxiv dump\n",
    "querier = XRXivQuery('./chemrxiv_2020-11-10.jsonl')\n",
    "querier.search_keywords(query, output_filepath='buchwald-hartwig_coupling_ChemRxiv.jsonl')\n",
    "\n",
    "# Save PDFs in current folder and name the files by their DOI\n",
    "save_pdf_from_dump('./buchwald-hartwig_coupling_ChemRxiv.jsonl', pdf_path='./PDFs', key_to_save='doi')"
   ]
  },
  {
   "cell_type": "markdown",
   "id": "373a661fa782bceb",
   "metadata": {
    "collapsed": false
   },
   "source": [
    "For further steps in the data extraction process annotated data in needed to evaluate the extraction pipeline. For this, one could use an annotation tool [like doccano which is shown in the following example](./annotation.ipynb)."
   ]
  }
 ],
 "metadata": {
  "kernelspec": {
   "display_name": "Python 3",
   "language": "python",
   "name": "python3"
  },
  "language_info": {
   "codemirror_mode": {
    "name": "ipython",
    "version": 3
   },
   "file_extension": ".py",
   "mimetype": "text/x-python",
   "name": "python",
   "nbconvert_exporter": "python",
   "pygments_lexer": "ipython3",
   "version": "3.11.9"
  }
 },
 "nbformat": 4,
 "nbformat_minor": 5
}
