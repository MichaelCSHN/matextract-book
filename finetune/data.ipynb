{
 "cells": [
  {
   "cell_type": "code",
   "execution_count": 1,
   "id": "d5e59008-bcbc-4045-8690-868ec99dd497",
   "metadata": {},
   "outputs": [],
   "source": [
    "!pip install -qqq -U transformers datasets"
   ]
  },
  {
   "cell_type": "code",
   "execution_count": 2,
   "id": "98091ffd-b36f-459b-b344-f2dffe18cc8c",
   "metadata": {},
   "outputs": [],
   "source": [
    "from datasets import load_dataset\n",
    "import datasets\n",
    "import os"
   ]
  },
  {
   "cell_type": "code",
   "execution_count": 3,
   "id": "77927391-a044-4a49-8aaa-f49398bcbd0d",
   "metadata": {},
   "outputs": [],
   "source": [
    "test_dataset_path = \"LLM_organic_synthesis/workplace_data/datasets/USPTO-n100k-t2048_exp1/test.json\""
   ]
  },
  {
   "cell_type": "code",
   "execution_count": 4,
   "id": "7c2f7c83-c15b-4afd-b837-d8e7df913183",
   "metadata": {},
   "outputs": [],
   "source": [
    "test_dataset = load_dataset(\"json\", data_files=test_dataset_path, split=\"train\")"
   ]
  },
  {
   "cell_type": "code",
   "execution_count": 5,
   "id": "960a61d9",
   "metadata": {},
   "outputs": [
    {
     "data": {
      "text/plain": [
       "Dataset({\n",
       "    features: ['instruction', 'output'],\n",
       "    num_rows: 10000\n",
       "})"
      ]
     },
     "execution_count": 5,
     "metadata": {},
     "output_type": "execute_result"
    }
   ],
   "source": [
    "test_dataset"
   ]
  },
  {
   "cell_type": "code",
   "execution_count": 6,
   "id": "a1007756-bf44-42bd-ba07-bf6a7de81682",
   "metadata": {},
   "outputs": [
    {
     "data": {
      "text/plain": [
       "{'instruction': 'Below is a description of an organic reaction. Extract information from it to an ORD JSON record.\\n\\n### Procedure:\\nThe hydrazide of (R)-2-(4fluorophenyl)-4-hydroxybutanoic acid (0.5 gram) is reacted with a solution of 0.5 grams of sodium nitrite in 10 ml of 5% H2SO4. The reaction mixture is maintained for 1 hour at 0-5° C., followed extraction of the reaction mixture with ethyl acetate, followed by basification of the resulting aqueous solution with NaOH, extraction with methyl t-butyl ether, drying of the extracts over MgSO4, filtration, and the removal of solvent by rotary evaporation. The product (R)-1-(4-fluorophenyl)-3-hydroxypropylamine is isolated as a light yellow oil.\\n\\n### ORD JSON:\\n',\n",
       " 'output': '{\"inputs\": {\"m1_m2_m3_m4\": {\"components\": [{\"identifiers\": [{\"type\": \"NAME\", \"value\": \"hydrazide\"}], \"reaction_role\": \"REACTANT\"}, {\"identifiers\": [{\"type\": \"NAME\", \"value\": \"(R)-2-(4fluorophenyl)-4-hydroxybutanoic acid\"}], \"amount\": {\"mass\": {\"value\": 0.5, \"units\": \"GRAM\"}}, \"reaction_role\": \"REACTANT\"}, {\"identifiers\": [{\"type\": \"NAME\", \"value\": \"sodium nitrite\"}], \"amount\": {\"mass\": {\"value\": 0.5, \"units\": \"GRAM\"}}, \"reaction_role\": \"REACTANT\"}, {\"identifiers\": [{\"type\": \"NAME\", \"value\": \"H2SO4\"}], \"amount\": {\"volume\": {\"value\": 10.0, \"units\": \"MILLILITER\"}}, \"reaction_role\": \"SOLVENT\"}]}}, \"conditions\": {\"temperature\": {\"setpoint\": {\"value\": 2.5, \"precision\": 2.5, \"units\": \"CELSIUS\"}}, \"conditions_are_dynamic\": true}, \"workups\": [{\"type\": \"EXTRACTION\", \"details\": \"extraction of the reaction mixture with ethyl acetate\", \"input\": {\"components\": [{\"identifiers\": [{\"type\": \"NAME\", \"value\": \"ethyl acetate\"}], \"reaction_role\": \"WORKUP\"}]}}, {\"type\": \"EXTRACTION\", \"details\": \"followed by basification of the resulting aqueous solution with NaOH, extraction with methyl t-butyl ether\", \"input\": {\"components\": [{\"identifiers\": [{\"type\": \"NAME\", \"value\": \"NaOH\"}], \"reaction_role\": \"WORKUP\"}, {\"identifiers\": [{\"type\": \"NAME\", \"value\": \"methyl t-butyl ether\"}], \"reaction_role\": \"WORKUP\"}]}}, {\"type\": \"DRY_WITH_MATERIAL\", \"details\": \"drying of the extracts over MgSO4, filtration\", \"input\": {\"components\": [{\"identifiers\": [{\"type\": \"NAME\", \"value\": \"MgSO4\"}], \"reaction_role\": \"WORKUP\"}]}}, {\"type\": \"CUSTOM\", \"details\": \"the removal of solvent\"}, {\"type\": \"CUSTOM\", \"details\": \"by rotary evaporation\"}], \"outcomes\": [{\"products\": [{\"identifiers\": [{\"type\": \"NAME\", \"value\": \"(R)-1-(4-fluorophenyl)-3-hydroxypropylamine\"}], \"reaction_role\": \"PRODUCT\"}]}]}'}"
      ]
     },
     "execution_count": 6,
     "metadata": {},
     "output_type": "execute_result"
    }
   ],
   "source": [
    "test_dataset[0]"
   ]
  },
  {
   "cell_type": "code",
   "execution_count": 7,
   "id": "13040345-28cf-4784-92a8-820d460ab0bc",
   "metadata": {},
   "outputs": [],
   "source": [
    "test_dataset = test_dataset.shuffle(seed=42).select(range(100)) # Only use 10000 samples for quick demo"
   ]
  },
  {
   "cell_type": "code",
   "execution_count": 8,
   "id": "ddc19d8d",
   "metadata": {},
   "outputs": [
    {
     "data": {
      "text/plain": [
       "Dataset({\n",
       "    features: ['instruction', 'output'],\n",
       "    num_rows: 100\n",
       "})"
      ]
     },
     "execution_count": 8,
     "metadata": {},
     "output_type": "execute_result"
    }
   ],
   "source": [
    "test_dataset"
   ]
  },
  {
   "cell_type": "code",
   "execution_count": 9,
   "id": "adcdb450-3958-481b-93e2-f714ecec92cf",
   "metadata": {},
   "outputs": [
    {
     "data": {
      "application/vnd.jupyter.widget-view+json": {
       "model_id": "e479b13488e74cdb82b92dd19537df55",
       "version_major": 2,
       "version_minor": 0
      },
      "text/plain": [
       "Creating json from Arrow format:   0%|          | 0/1 [00:00<?, ?ba/s]"
      ]
     },
     "metadata": {},
     "output_type": "display_data"
    },
    {
     "data": {
      "text/plain": [
       "286061"
      ]
     },
     "execution_count": 9,
     "metadata": {},
     "output_type": "execute_result"
    }
   ],
   "source": [
    "test_dataset.to_json(\"test.json\")"
   ]
  },
  {
   "cell_type": "code",
   "execution_count": null,
   "id": "777cac5b",
   "metadata": {},
   "outputs": [],
   "source": []
  }
 ],
 "metadata": {
  "kernelspec": {
   "display_name": "Python 3 (ipykernel)",
   "language": "python",
   "name": "python3"
  },
  "language_info": {
   "codemirror_mode": {
    "name": "ipython",
    "version": 3
   },
   "file_extension": ".py",
   "mimetype": "text/x-python",
   "name": "python",
   "nbconvert_exporter": "python",
   "pygments_lexer": "ipython3",
   "version": "3.12.3"
  }
 },
 "nbformat": 4,
 "nbformat_minor": 5
}
