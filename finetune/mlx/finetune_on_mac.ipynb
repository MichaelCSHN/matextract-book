{
 "cells": [
  {
   "cell_type": "markdown",
   "metadata": {},
   "source": [
    "# Finetuning using MLX "
   ]
  },
  {
   "cell_type": "markdown",
   "metadata": {},
   "source": [
    "Apple uses Apple Silicon chips on their new Macs. These chips are based on ARM architecture and have builtin GPU. Apple provides a framework called MLX to use the GPU for machine learning tasks. This notebook shows how to use MLX to finetune a pretrained model."
   ]
  },
  {
   "cell_type": "markdown",
   "metadata": {},
   "source": [
    "## Special tokens \n",
    "\n",
    "Language models use special tokens to indicate the start and end of a sentence. Those are typically called `bos_token` and `eos_token`. The `bos_token` is used to indicate the start of a sentence and `eos_token` is used to indicate the end of a sentence. A common practice is to use `<s>` for `bos_token` and `</s>` for `eos_token`."
   ]
  },
  {
   "cell_type": "markdown",
   "metadata": {},
   "source": [
    "## LoRA\n",
    "\n",
    "To reduce computational cost, we use the [low-rank adaptation (LoRA) technique](https://huggingface.co/docs/diffusers/training/lora). LoRA is a technique to reduce the number of parameters in a neural network. It does so by training low-rank adapters on top of a pretrained model.\n",
    "\n",
    "![](https://lightningaidev.wpengine.com/wp-content/uploads/2023/04/lora-4-300x226@2x.png)\n",
    "\n"
   ]
  },
  {
   "cell_type": "markdown",
   "metadata": {},
   "source": [
    "## Mistral 7B"
   ]
  },
  {
   "cell_type": "markdown",
   "metadata": {},
   "source": [
    "[Mistral 7B is an open LLM that outperforms Llama 2 13B on all benchmarks.](https://mistral.ai/news/announcing-mistral-7b/#:~:text=Outperforms%20Llama%202%2013B%20on%20all%20benchmarks)\n",
    "\n",
    "\n"
   ]
  },
  {
   "cell_type": "markdown",
   "metadata": {},
   "source": [
    "## Data"
   ]
  },
  {
   "cell_type": "markdown",
   "metadata": {},
   "source": [
    "As dataset, we use data compiled by [Luc Patiny](https://scholar.google.ch/citations?user=FaGwMp4AAAAJ&hl=en) and [Guillaume Godin](https://scholar.google.com/citations?user=o9BCO5IAAAAJ&hl=fr). "
   ]
  },
  {
   "cell_type": "code",
   "execution_count": 1,
   "metadata": {},
   "outputs": [],
   "source": [
    "import json"
   ]
  },
  {
   "cell_type": "code",
   "execution_count": 2,
   "metadata": {},
   "outputs": [],
   "source": [
    "with open('data.json', 'r') as handle:\n",
    "    data = json.load(handle)"
   ]
  },
  {
   "cell_type": "markdown",
   "metadata": {},
   "source": [
    "There have been some sanity checks performed, and we filter out the data that passed those."
   ]
  },
  {
   "cell_type": "code",
   "execution_count": 6,
   "metadata": {},
   "outputs": [],
   "source": [
    "logs_w_info = list(filter(lambda x: x['logs']['status'] == 'info', data))"
   ]
  },
  {
   "cell_type": "markdown",
   "metadata": {},
   "source": [
    "Now, we can build the dataset, which will be strings of the form:\n",
    "```\n",
    "<s>Q: {question}\n",
    "A: {answer}</s>\n",
    "````"
   ]
  },
  {
   "cell_type": "code",
   "execution_count": 10,
   "metadata": {},
   "outputs": [
    {
     "data": {
      "text/plain": [
       "{'parsed': {'name': '2-(2-Nitrobenzyloxy)benzaldehyde',\n",
       "  'yield': '13%',\n",
       "  'appearance': 'colourless solid',\n",
       "  'mp': {'low': 103, 'high': 105, 'units': '°C'},\n",
       "  '1Hnmr': {'signals': [{'delta': '5.45',\n",
       "     'multiplicities': ['s'],\n",
       "     'nbH': '2H',\n",
       "     'assignment': 'Ar-CH2'},\n",
       "    {'delta': '7.09-7.17',\n",
       "     'multiplicities': ['m'],\n",
       "     'nbH': '1H',\n",
       "     'assignment': 'Ar-H'},\n",
       "    {'delta': '7.30-7.37',\n",
       "     'multiplicities': ['m'],\n",
       "     'nbH': '1H',\n",
       "     'assignment': 'Ar-H'},\n",
       "    {'delta': '7.64-7.72',\n",
       "     'multiplicities': ['m'],\n",
       "     'nbH': '1H',\n",
       "     'assignment': 'Ar-H'},\n",
       "    {'delta': '7.72-7.78',\n",
       "     'multiplicities': ['m'],\n",
       "     'nbH': '2H',\n",
       "     'assignment': 'Ar-H'},\n",
       "    {'delta': '7.97-8.05',\n",
       "     'multiplicities': ['m'],\n",
       "     'nbH': '1H',\n",
       "     'assignment': 'Ar-H'},\n",
       "    {'delta': '8.18-8.25',\n",
       "     'multiplicities': ['m'],\n",
       "     'nbH': '1H',\n",
       "     'assignment': 'Ar-H'},\n",
       "    {'delta': '8.40',\n",
       "     'multiplicities': ['s'],\n",
       "     'nbH': '1H',\n",
       "     'assignment': 'Ar-H'},\n",
       "    {'delta': '10.45',\n",
       "     'multiplicities': ['s'],\n",
       "     'nbH': '1H',\n",
       "     'assignment': 'Ar-CHO'}]},\n",
       "  'ms': {'ionization': 'FAB+',\n",
       "   'peaks': [{'mass': 258, 'intensity': 33}, {'mass': 136, 'intensity': 100}]},\n",
       "  'ir': {'conditions': 'KBr',\n",
       "   'peaks': [{'wavenum': 3452},\n",
       "    {'wavenum': 1679},\n",
       "    {'wavenum': 1599},\n",
       "    {'wavenum': 1528},\n",
       "    {'wavenum': 1461},\n",
       "    {'wavenum': 1350},\n",
       "    {'wavenum': 1238},\n",
       "    {'wavenum': 1025},\n",
       "    {'wavenum': 802},\n",
       "    {'wavenum': 730}]},\n",
       "  'elementalAnalysis': [{'atom': 'C',\n",
       "    'expect': 65.37,\n",
       "    'found': 64.99,\n",
       "    'color': 'lightgreen'},\n",
       "   {'atom': 'H', 'expect': 4.31, 'found': 4.16, 'color': 'lightgreen'},\n",
       "   {'atom': 'N', 'expect': 5.44, 'found': 5.46, 'color': 'lightgreen'}]},\n",
       " 'final': {'name': '2-(2-Nitrobenzyloxy)benzaldehyde',\n",
       "  'yield': '13%',\n",
       "  'appearance': 'colourless solid',\n",
       "  'mp': {'low': 103, 'high': 105, 'units': '°C'},\n",
       "  '1Hnmr': {'signals': [{'delta': '5.45',\n",
       "     'multiplicities': ['s'],\n",
       "     'nbH': '2H',\n",
       "     'assignment': 'Ar-CH2'},\n",
       "    {'delta': '7.09-7.17',\n",
       "     'multiplicities': ['m'],\n",
       "     'nbH': '1H',\n",
       "     'assignment': 'Ar-H'},\n",
       "    {'delta': '7.30-7.37',\n",
       "     'multiplicities': ['m'],\n",
       "     'nbH': '1H',\n",
       "     'assignment': 'Ar-H'},\n",
       "    {'delta': '7.64-7.72',\n",
       "     'multiplicities': ['m'],\n",
       "     'nbH': '1H',\n",
       "     'assignment': 'Ar-H'},\n",
       "    {'delta': '7.72-7.78',\n",
       "     'multiplicities': ['m'],\n",
       "     'nbH': '2H',\n",
       "     'assignment': 'Ar-H'},\n",
       "    {'delta': '7.97-8.05',\n",
       "     'multiplicities': ['m'],\n",
       "     'nbH': '1H',\n",
       "     'assignment': 'Ar-H'},\n",
       "    {'delta': '8.18-8.25',\n",
       "     'multiplicities': ['m'],\n",
       "     'nbH': '1H',\n",
       "     'assignment': 'Ar-H'},\n",
       "    {'delta': '8.40',\n",
       "     'multiplicities': ['s'],\n",
       "     'nbH': '1H',\n",
       "     'assignment': 'Ar-H'},\n",
       "    {'delta': '10.45',\n",
       "     'multiplicities': ['s'],\n",
       "     'nbH': '1H',\n",
       "     'assignment': 'Ar-CHO'}]},\n",
       "  'ms': {'ionization': 'FAB+',\n",
       "   'peaks': [{'mass': 258, 'intensity': 33}, {'mass': 136, 'intensity': 100}]},\n",
       "  'ir': {'conditions': 'KBr',\n",
       "   'peaks': [{'wavenum': 3452},\n",
       "    {'wavenum': 1679},\n",
       "    {'wavenum': 1599},\n",
       "    {'wavenum': 1528},\n",
       "    {'wavenum': 1461},\n",
       "    {'wavenum': 1350},\n",
       "    {'wavenum': 1238},\n",
       "    {'wavenum': 1025},\n",
       "    {'wavenum': 802},\n",
       "    {'wavenum': 730}]},\n",
       "  'elementalAnalysis': [{'atom': 'C', 'expect': 65.37, 'found': 64.99},\n",
       "   {'atom': 'H', 'expect': 4.31, 'found': 4.16},\n",
       "   {'atom': 'N', 'expect': 5.44, 'found': 5.46}]},\n",
       " 'validation': {'yaml': True,\n",
       "  'numbers': {'stats': {'onlyInYAML': [],\n",
       "    'onlyInString': [-1, 4, 11, 14],\n",
       "    'nbDistinctValuesInString': 43,\n",
       "    'nbDistinctValuesInYAML': 39,\n",
       "    'nbIntersect': 39,\n",
       "    'nbUnion': 43,\n",
       "    'ratioPresent': 0.9069767441860465},\n",
       "   'duplicates': 0,\n",
       "   'invented': 0,\n",
       "   'status': True},\n",
       "  'empty': 0,\n",
       "  'molfile': True,\n",
       "  'protonNMR': True,\n",
       "  'elementalAnalysis': True},\n",
       " 'chatgpt': {'id': 'chatcmpl-8M0nljLugJbBcchQ8Vqd9RPsHcM3c',\n",
       "  'role': 'assistant',\n",
       "  'content': '```yaml\\nname: \"2-(2-Nitrobenzyloxy)benzaldehyde\"\\nyield: \"13%\"\\nappearance: \"colourless solid\"\\nmp:\\n  low: 103\\n  high: 105\\n  units: \"°C\"\\n1Hnmr:\\n  signals:\\n    - delta: \"5.45\"\\n      multiplicities: [\"s\"]\\n      nbH: \"2H\"\\n      assignment: \"Ar-CH2\"\\n    - delta: \"7.09-7.17\"\\n      multiplicities: [\"m\"]\\n      nbH: \"1H\"\\n      assignment: \"Ar-H\"\\n    - delta: \"7.30-7.37\"\\n      multiplicities: [\"m\"]\\n      nbH: \"1H\"\\n      assignment: \"Ar-H\"\\n    - delta: \"7.64-7.72\"\\n      multiplicities: [\"m\"]\\n      nbH: \"1H\"\\n      assignment: \"Ar-H\"\\n    - delta: \"7.72-7.78\"\\n      multiplicities: [\"m\"]\\n      nbH: \"2H\"\\n      assignment: \"Ar-H\"\\n    - delta: \"7.97-8.05\"\\n      multiplicities: [\"m\"]\\n      nbH: \"1H\"\\n      assignment: \"Ar-H\"\\n    - delta: \"8.18-8.25\"\\n      multiplicities: [\"m\"]\\n      nbH: \"1H\"\\n      assignment: \"Ar-H\"\\n    - delta: \"8.40\"\\n      multiplicities: [\"s\"]\\n      nbH: \"1H\"\\n      assignment: \"Ar-H\"\\n    - delta: \"10.45\"\\n      multiplicities: [\"s\"]\\n      nbH: \"1H\"\\n      assignment: \"Ar-CHO\"\\nms:\\n  ionization: \"FAB+\"\\n  peaks:\\n    - mass: 258\\n      intensity: 33\\n    - mass: 136\\n      intensity: 100\\nir:\\n  conditions: \"KBr\"\\n  peaks:\\n    - wavenum: 3452\\n    - wavenum: 1679\\n    - wavenum: 1599\\n    - wavenum: 1528\\n    - wavenum: 1461\\n    - wavenum: 1350\\n    - wavenum: 1238\\n    - wavenum: 1025\\n    - wavenum: 802\\n    - wavenum: 730\\nelementalAnalysis:\\n  - atom: \"C\"\\n    expect: 65.37\\n    found: 64.99\\n  - atom: \"H\"\\n    expect: 4.31\\n    found: 4.16\\n  - atom: \"N\"\\n    expect: 5.44\\n    found: 5.46\\n```\\n',\n",
       "  'finishReason': 'stop',\n",
       "  'usage': {'completionTokens': 594,\n",
       "   'promptTokens': 735,\n",
       "   'totalTokens': 1329}},\n",
       " 'source': {'promptDescription': 'Our baseline prompt',\n",
       "  'prompt': '\\nWe have a scientific experimental part describing a chemical molecule and we need to parse all the available properties to the following YAML format:\\n\\n {\\n  name?: str\\n  procedure?: str\\n  yield?: str\\n  appearance?: str\\n  alphaD?: {value?: num, concentration?: num, solvent?: str}\\n  ir?:\\n    conditions?: str\\n    peaks?: [{wavenum: num, assignment?: str}]\\n  bp?: {low?: num, high?: num, units?: str, pressure?: num, pressureUnits?: str, otherInfo?: str}\\n  mp?: {low?: num, high?: num, units?: str, otherInfo?: str}\\n  1Hnmr?: {\\n    solvent?: str\\n    frequency?: num\\n    signals?: [{delta?: str, multiplicities?: str[], couplings?: num[], nbH?: str, assignment?: str}]\\n  },\\n  13Cnmr?:\\n    solvent?: str\\n    frequency?: num\\n    signals?: [{delta?: str, otherInfo?: str}]\\n  mass?:\\n    ionization?: str\\n    mode?: str\\n    analyser?: str\\n    conditions?: str\\n    peaks?: [{mass?: num, intensity?: num, otherInfo?: str}]\\n  hrms?: {mf?: str, assignment?: str, expected?: num, found?: num, conditions?: str}\\n  mf?: str\\n  elementalAnalysis?: [{atom?: str, expect?: num, found?: num}]\\n  otherInfo?: str\\n\\nDo not guess or speculate. If the information is not known or uncertain, just skip it.\\n\\nHere is the text to convert:\\n\\n\\n2-(2-Nitrobenzyloxy)benzaldehyde (4b). Yield 13%; colourless solid; recrystallization from Et2O; m.p. 103-105 °C; 1H-NMR: δ 5.45 (s, 2H, Ar-CH2), 7.09-7.17 (m, 1H, Ar-H), 7.30-7.37 (m, 1H,  Ar-H), 7.64-7.72 (m, 1H, Ar-H), 7.72-7.78 (m, 2H, Ar-H), 7.97-8.05 (m, 1H, Ar-H), 8.18-8.25 (m, 1H, Ar-H), 8.40 (s, 1H, Ar-H), 10.45 (s, 1H, Ar-CHO) ppm; MS (FAB+) m/z (%): 258 (MH+, 33), 136 (100); IR (KBr): ν 3452, 1679, 1599, 1528, 1461, 1350, 1238, 1025, 802, 730 cm-1; Anal. calc. for C14H11NO4: C 65.37, H 4.31, N 5.44%. Found: C 64.99, H 4.16, N 5.46 %.\\n\\n\\n\\nYou may only provide the YAML and string must be quoted.\\n\\n',\n",
       "  'line': '2-(2-Nitrobenzyloxy)benzaldehyde (4b). Yield 13%; colourless solid; recrystallization from Et2O; m.p. 103-105 °C; 1H-NMR: δ 5.45 (s, 2H, Ar-CH2), 7.09-7.17 (m, 1H, Ar-H), 7.30-7.37 (m, 1H,  Ar-H), 7.64-7.72 (m, 1H, Ar-H), 7.72-7.78 (m, 2H, Ar-H), 7.97-8.05 (m, 1H, Ar-H), 8.18-8.25 (m, 1H, Ar-H), 8.40 (s, 1H, Ar-H), 10.45 (s, 1H, Ar-CHO) ppm; MS (FAB+) m/z (%): 258 (MH+, 33), 136 (100); IR (KBr): ν 3452, 1679, 1599, 1528, 1461, 1350, 1238, 1025, 802, 730 cm-1; Anal. calc. for C14H11NO4: C 65.37, H 4.31, N 5.44%. Found: C 64.99, H 4.16, N 5.46 %.',\n",
       "  'nbDigitsInLine': 144,\n",
       "  'nbNonDigitsInLine': 406,\n",
       "  'numberRatio': 0.35467980295566504,\n",
       "  'doi': '10.3390/molecules13010011',\n",
       "  'source': 'molecules-13-00011_00',\n",
       "  'completionParams': {'model': 'gpt-3.5-turbo-1106',\n",
       "   'temperature': 0,\n",
       "   'top_p': 0}},\n",
       " 'meta': {'molfile': 'Message:\\nopenmolecules.org MolfileCreator 1.0\\n\\n 19 20  0  0  0  0  0  0  0  0999 V2000\\n    2.5981    2.2500   -0.0000 N   0  0  0  0  0  0  0  0  0  0  0  0\\n    2.5981    3.7500   -0.0000 O   0  0  0  0  0  0  0  0  0  0  0  0\\n    1.2990    1.5000   -0.0000 O   0  0  0  0  0  0  0  0  0  0  0  0\\n    3.8971    1.5000   -0.0000 C   0  0  0  0  0  0  0  0  0  0  0  0\\n    3.8971   -0.0000   -0.0000 C   0  0  0  0  0  0  0  0  0  0  0  0\\n    2.5981   -0.7500   -0.0000 C   0  0  0  0  0  0  0  0  0  0  0  0\\n    1.2990   -0.0000   -0.0000 O   0  0  0  0  0  0  0  0  0  0  0  0\\n    0.0000   -0.7500   -0.0000 C   0  0  0  0  0  0  0  0  0  0  0  0\\n   -1.2990    0.0000   -0.0000 C   0  0  0  0  0  0  0  0  0  0  0  0\\n   -1.2990    1.5000   -0.0000 C   0  0  0  0  0  0  0  0  0  0  0  0\\n   -2.5981    2.2500   -0.0000 O   0  0  0  0  0  0  0  0  0  0  0  0\\n   -2.5981   -0.7500   -0.0000 C   0  0  0  0  0  0  0  0  0  0  0  0\\n   -2.5981   -2.2500   -0.0000 C   0  0  0  0  0  0  0  0  0  0  0  0\\n   -1.2990   -3.0000   -0.0000 C   0  0  0  0  0  0  0  0  0  0  0  0\\n   -0.0000   -2.2500   -0.0000 C   0  0  0  0  0  0  0  0  0  0  0  0\\n    5.1962   -0.7500   -0.0000 C   0  0  0  0  0  0  0  0  0  0  0  0\\n    6.4952   -0.0000   -0.0000 C   0  0  0  0  0  0  0  0  0  0  0  0\\n    6.4952    1.5000   -0.0000 C   0  0  0  0  0  0  0  0  0  0  0  0\\n    5.1962    2.2500   -0.0000 C   0  0  0  0  0  0  0  0  0  0  0  0\\n  1  2  2  0  0  0  0\\n  1  3  1  0  0  0  0\\n  1  4  1  0  0  0  0\\n  4  5  2  0  0  0  0\\n  5  6  1  0  0  0  0\\n  6  7  1  0  0  0  0\\n  7  8  1  0  0  0  0\\n  8  9  2  0  0  0  0\\n  9 10  1  0  0  0  0\\n 10 11  2  0  0  0  0\\n  9 12  1  0  0  0  0\\n 12 13  2  0  0  0  0\\n 13 14  1  0  0  0  0\\n 14 15  2  0  0  0  0\\n  8 15  1  0  0  0  0\\n  5 16  1  0  0  0  0\\n 16 17  2  0  0  0  0\\n 17 18  1  0  0  0  0\\n 18 19  2  0  0  0  0\\n  4 19  1  0  0  0  0\\nM  CHG  2   1   1   3  -1\\nM  END\\n\\n',\n",
       "  'ocl': {'idCode': 'fle`PBH@PiLIQvQSQQIEQQIBdFKPDE@PH@@@',\n",
       "   'coordinates': '!B?g~H?[_}?g~w@k_}bOvw?[\\\\Bb@JH?X`B?g~H?_x@bOw~_x`B',\n",
       "   'index': [-112290536,\n",
       "    34677249,\n",
       "    269484164,\n",
       "    25166081,\n",
       "    -2136997888,\n",
       "    274434,\n",
       "    17047556,\n",
       "    134217992,\n",
       "    152602624,\n",
       "    2113540,\n",
       "    67239944,\n",
       "    1207968832,\n",
       "    -1609564160,\n",
       "    134492160,\n",
       "    -2142240512,\n",
       "    268615696]},\n",
       "  'mfInfo': {'mass': 257.24197375762594,\n",
       "   'charge': 0,\n",
       "   'mf': 'C14H11NO4',\n",
       "   'atoms': {'C': 14, 'H': 11, 'N': 1, 'O': 4},\n",
       "   'monoisotopicMass': 257.06880783724,\n",
       "   'unsaturation': 10}},\n",
       " 'logs': {'logs': [{'id': 1,\n",
       "    'level': 30,\n",
       "    'levelLabel': 'info',\n",
       "    'time': 1701901321254,\n",
       "    'uuids': ['7714eb39-cd11-42cb-9754-e42d44e1208d'],\n",
       "    'message': 'Name to molfile using openmolecules',\n",
       "    'meta': {},\n",
       "    'color': '#98F274'},\n",
       "   {'id': 2,\n",
       "    'level': 30,\n",
       "    'levelLabel': 'info',\n",
       "    'time': 1701901321350,\n",
       "    'uuids': ['22cb1754-e42d-44e1-a08d-388f813ae2f7',\n",
       "     '7714eb39-cd11-42cb-9754-e42d44e1208d'],\n",
       "    'message': 'High-resolution mass is not provided',\n",
       "    'meta': {'check': 'HRMS'},\n",
       "    'color': '#98F274'}],\n",
       "  'info': 2,\n",
       "  'warn': 0,\n",
       "  'error': 0,\n",
       "  'fatal': 0,\n",
       "  'status': 'info'},\n",
       " 'color': '#caffc7'}"
      ]
     },
     "execution_count": 10,
     "metadata": {},
     "output_type": "execute_result"
    }
   ],
   "source": [
    "logs_w_info[0]"
   ]
  },
  {
   "cell_type": "code",
   "execution_count": 11,
   "metadata": {},
   "outputs": [],
   "source": [
    "data = []\n",
    "for log in logs_w_info:\n",
    "    q = log['source']['prompt']\n",
    "    c = log['chatgpt']['content']\n",
    "    string = f\"<s>Q: {q}\\nA: {c}</s>\"\n",
    "    data.append(string)"
   ]
  },
  {
   "cell_type": "code",
   "execution_count": 12,
   "metadata": {},
   "outputs": [
    {
     "data": {
      "text/plain": [
       "'<s>Q: \\nWe have a scientific experimental part describing a chemical molecule and we need to parse all the available properties to the following YAML format:\\n\\n {\\n  name?: str\\n  procedure?: str\\n  yield?: str\\n  appearance?: str\\n  alphaD?: {value?: num, concentration?: num, solvent?: str}\\n  ir?:\\n    conditions?: str\\n    peaks?: [{wavenum: num, assignment?: str}]\\n  bp?: {low?: num, high?: num, units?: str, pressure?: num, pressureUnits?: str, otherInfo?: str}\\n  mp?: {low?: num, high?: num, units?: str, otherInfo?: str}\\n  1Hnmr?: {\\n    solvent?: str\\n    frequency?: num\\n    signals?: [{delta?: str, multiplicities?: str[], couplings?: num[], nbH?: str, assignment?: str}]\\n  },\\n  13Cnmr?:\\n    solvent?: str\\n    frequency?: num\\n    signals?: [{delta?: str, otherInfo?: str}]\\n  mass?:\\n    ionization?: str\\n    mode?: str\\n    analyser?: str\\n    conditions?: str\\n    peaks?: [{mass?: num, intensity?: num, otherInfo?: str}]\\n  hrms?: {mf?: str, assignment?: str, expected?: num, found?: num, conditions?: str}\\n  mf?: str\\n  elementalAnalysis?: [{atom?: str, expect?: num, found?: num}]\\n  otherInfo?: str\\n\\nDo not guess or speculate. If the information is not known or uncertain, just skip it.\\n\\nHere is the text to convert:\\n\\n\\n2-(2-Nitrobenzyloxy)benzaldehyde (4b). Yield 13%; colourless solid; recrystallization from Et2O; m.p. 103-105 °C; 1H-NMR: δ 5.45 (s, 2H, Ar-CH2), 7.09-7.17 (m, 1H, Ar-H), 7.30-7.37 (m, 1H,  Ar-H), 7.64-7.72 (m, 1H, Ar-H), 7.72-7.78 (m, 2H, Ar-H), 7.97-8.05 (m, 1H, Ar-H), 8.18-8.25 (m, 1H, Ar-H), 8.40 (s, 1H, Ar-H), 10.45 (s, 1H, Ar-CHO) ppm; MS (FAB+) m/z (%): 258 (MH+, 33), 136 (100); IR (KBr): ν 3452, 1679, 1599, 1528, 1461, 1350, 1238, 1025, 802, 730 cm-1; Anal. calc. for C14H11NO4: C 65.37, H 4.31, N 5.44%. Found: C 64.99, H 4.16, N 5.46 %.\\n\\n\\n\\nYou may only provide the YAML and string must be quoted.\\n\\n\\nA: ```yaml\\nname: \"2-(2-Nitrobenzyloxy)benzaldehyde\"\\nyield: \"13%\"\\nappearance: \"colourless solid\"\\nmp:\\n  low: 103\\n  high: 105\\n  units: \"°C\"\\n1Hnmr:\\n  signals:\\n    - delta: \"5.45\"\\n      multiplicities: [\"s\"]\\n      nbH: \"2H\"\\n      assignment: \"Ar-CH2\"\\n    - delta: \"7.09-7.17\"\\n      multiplicities: [\"m\"]\\n      nbH: \"1H\"\\n      assignment: \"Ar-H\"\\n    - delta: \"7.30-7.37\"\\n      multiplicities: [\"m\"]\\n      nbH: \"1H\"\\n      assignment: \"Ar-H\"\\n    - delta: \"7.64-7.72\"\\n      multiplicities: [\"m\"]\\n      nbH: \"1H\"\\n      assignment: \"Ar-H\"\\n    - delta: \"7.72-7.78\"\\n      multiplicities: [\"m\"]\\n      nbH: \"2H\"\\n      assignment: \"Ar-H\"\\n    - delta: \"7.97-8.05\"\\n      multiplicities: [\"m\"]\\n      nbH: \"1H\"\\n      assignment: \"Ar-H\"\\n    - delta: \"8.18-8.25\"\\n      multiplicities: [\"m\"]\\n      nbH: \"1H\"\\n      assignment: \"Ar-H\"\\n    - delta: \"8.40\"\\n      multiplicities: [\"s\"]\\n      nbH: \"1H\"\\n      assignment: \"Ar-H\"\\n    - delta: \"10.45\"\\n      multiplicities: [\"s\"]\\n      nbH: \"1H\"\\n      assignment: \"Ar-CHO\"\\nms:\\n  ionization: \"FAB+\"\\n  peaks:\\n    - mass: 258\\n      intensity: 33\\n    - mass: 136\\n      intensity: 100\\nir:\\n  conditions: \"KBr\"\\n  peaks:\\n    - wavenum: 3452\\n    - wavenum: 1679\\n    - wavenum: 1599\\n    - wavenum: 1528\\n    - wavenum: 1461\\n    - wavenum: 1350\\n    - wavenum: 1238\\n    - wavenum: 1025\\n    - wavenum: 802\\n    - wavenum: 730\\nelementalAnalysis:\\n  - atom: \"C\"\\n    expect: 65.37\\n    found: 64.99\\n  - atom: \"H\"\\n    expect: 4.31\\n    found: 4.16\\n  - atom: \"N\"\\n    expect: 5.44\\n    found: 5.46\\n```\\n</s>'"
      ]
     },
     "execution_count": 12,
     "metadata": {},
     "output_type": "execute_result"
    }
   ],
   "source": [
    "data[0]"
   ]
  },
  {
   "cell_type": "markdown",
   "metadata": {},
   "source": [
    "Since the dataset is relatively small, we keep most of it for training for now."
   ]
  }
 ],
 "metadata": {
  "kernelspec": {
   "display_name": "mlx",
   "language": "python",
   "name": "python3"
  },
  "language_info": {
   "codemirror_mode": {
    "name": "ipython",
    "version": 3
   },
   "file_extension": ".py",
   "mimetype": "text/x-python",
   "name": "python",
   "nbconvert_exporter": "python",
   "pygments_lexer": "ipython3",
   "version": "3.10.13"
  }
 },
 "nbformat": 4,
 "nbformat_minor": 2
}
