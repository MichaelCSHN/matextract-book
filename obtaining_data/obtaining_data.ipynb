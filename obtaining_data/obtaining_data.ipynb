{
 "cells": [
  {
   "cell_type": "raw",
   "source": [
    "---\n",
    "author: Mara Wilhelmi\n",
    "date: 2024-05-10\n",
    "title: obtaining data for data extraction\n",
    "---"
   ],
   "metadata": {
    "collapsed": false
   },
   "id": "54aa923cdd94200f"
  },
  {
   "cell_type": "markdown",
   "source": [
    "# How to obtain data\n",
    "\n",
    "At the start of each data extraction process one has to first collect a dataset containing all data sources relevant for the extraction topic. Therefore multiple python packages are available to make this process easier and more efficient. These are shown in the [Chapter @crossref], [Chapter @data_mining], [Chapter @annotation].\n"
   ],
   "metadata": {
    "collapsed": false
   },
   "id": "c60ffbc286bd0779"
  }
 ],
 "metadata": {
  "kernelspec": {
   "display_name": "Python 3",
   "language": "python",
   "name": "python3"
  },
  "language_info": {
   "codemirror_mode": {
    "name": "ipython",
    "version": 2
   },
   "file_extension": ".py",
   "mimetype": "text/x-python",
   "name": "python",
   "nbconvert_exporter": "python",
   "pygments_lexer": "ipython2",
   "version": "2.7.6"
  }
 },
 "nbformat": 4,
 "nbformat_minor": 5
}
