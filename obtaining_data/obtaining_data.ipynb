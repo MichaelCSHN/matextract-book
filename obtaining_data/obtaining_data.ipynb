{
 "cells": [
  {
   "cell_type": "markdown",
   "source": [
    "# How to obtain data\n",
    "\n"
   ],
   "metadata": {
    "collapsed": false
   },
   "id": "c60ffbc286bd0779"
  },
  {
   "cell_type": "markdown",
   "source": [
    "### Obtaining a set of relevant data sources\n",
    "\n",
    "At the start of the data extraction process you have to collect a set of potentially relevant data sources. Therefore, you could collect a dataset manually or use a tool to help automating and speeding up this process. The Crossref API is a very useful tool to collect the metadata of relevant articles. Besides the API there are multiple Python libraries available that make access to the API easier. One of these libraries is [crossrefapi](https://github.com/fabiobatalha/crossrefapi). As an example 100 sources including metadata on the topic 'buchwald-hartwig coupling' are extracted and saved into a json file. "
   ],
   "metadata": {
    "collapsed": false
   },
   "id": "c407420fbb8b44e3"
  },
  {
   "cell_type": "code",
   "execution_count": 9,
   "outputs": [
    {
     "name": "stdout",
     "output_type": "stream",
     "text": [
      "[{'DOI': '10.1021/jo061366i.s001', 'issued': {'date-parts': [[None]]}, 'publisher': 'American Chemical Society (ACS)', 'title': ['Synthesis of Cyclic Peptides Constrained with Biarylamine Linkers Using Buchwald-Hartwig C-N Coupling'], 'type': 'component'}, {'DOI': '10.1002/chin.200723250', 'author': [{'given': 'Peter', 'family': 'Kettler', 'sequence': 'first', 'affiliation': []}], 'issued': {'date-parts': [[2007, 5, 16]]}, 'publisher': 'Wiley', 'title': ['Carbon—Nitrogen Coupling and Buchwald—Hartwig Amination'], 'type': 'journal-article'}, {'DOI': '10.1055/s-0039-1690303', 'issued': {'date-parts': [[2019, 10, 18]]}, 'publisher': 'Georg Thieme Verlag KG', 'title': ['Buchwald–Hartwig Coupling of Piperidines with Hetaryl Bromides'], 'type': 'journal-article'}, {'DOI': '10.1002/chin.200704170', 'author': [{'given': 'V.', 'family': 'Balraju', 'sequence': 'first', 'affiliation': []}, {'given': 'Javed', 'family': 'Iqbal', 'sequence': 'additional', 'affiliation': []}], 'issued': {'date-parts': [[2007, 1, 8]]}, 'publisher': 'Wiley', 'title': ['Synthesis of Cyclic Peptides Constrained with Biarylamine Linkers Using Buchwald—Hartwig C—N Coupling.'], 'type': 'journal-article'}, {'DOI': '10.1021/jo702389v.s004', 'issued': {'date-parts': [[None]]}, 'publisher': 'American Chemical Society (ACS)', 'title': ['Synthesis and Electronic Properties of Sterically Demanding N-Arylphenothiazines and Unexpected Buchwald-Hartwig Aminations'], 'type': 'component'}, {'DOI': '10.1002/adma.201705710', 'author': [{'given': 'Yaozu', 'family': 'Liao', 'sequence': 'first', 'affiliation': [{'name': 'State Key Laboratory for Modification of Chemical Fibers and Polymer Materials &amp; College of Materials Science and Engineering Donghua University  Shanghai 201620 China'}]}, {'given': 'Haige', 'family': 'Wang', 'sequence': 'additional', 'affiliation': [{'name': 'State Key Laboratory for Modification of Chemical Fibers and Polymer Materials &amp; College of Materials Science and Engineering Donghua University  Shanghai 201620 China'}]}, {'given': 'Meifang', 'family': 'Zhu', 'sequence': 'additional', 'affiliation': [{'name': 'State Key Laboratory for Modification of Chemical Fibers and Polymer Materials &amp; College of Materials Science and Engineering Donghua University  Shanghai 201620 China'}]}, {'ORCID': 'http://orcid.org/0000-0002-2130-4930', 'authenticated-orcid': False, 'given': 'Arne', 'family': 'Thomas', 'sequence': 'additional', 'affiliation': [{'name': 'Department of Chemistry Functional Materials Technische Universität Berlin  Berlin 10623 Germany'}]}], 'issued': {'date-parts': [[2018, 1, 15]]}, 'publisher': 'Wiley', 'title': ['Efficient Supercapacitor Energy Storage Using Conjugated Microporous Polymer Networks Synthesized from Buchwald–Hartwig Coupling'], 'type': 'journal-article'}, {'DOI': '10.1002/chin.201530214', 'author': [{'given': 'Pallabi', 'family': 'Saikia', 'sequence': 'first', 'affiliation': []}, {'given': 'Gitarthi', 'family': 'Sharma', 'sequence': 'additional', 'affiliation': []}, {'given': 'Sanjib', 'family': 'Gogoi', 'sequence': 'additional', 'affiliation': []}, {'given': 'Romesh C.', 'family': 'Boruah', 'sequence': 'additional', 'affiliation': []}], 'issued': {'date-parts': [[2015, 7]]}, 'publisher': 'Wiley', 'title': ['ChemInform Abstract: Cascade Imination, Buchwald—Hartwig Cross Coupling and Cycloaddition Reaction: Synthesis of Pyrido[2,3‐d]pyrimidines.'], 'type': 'journal-article'}, {'DOI': '10.1016/j.tetlet.2011.02.049', 'author': [{'given': 'Ahlem', 'family': 'Bouhlel', 'sequence': 'first', 'affiliation': []}, {'given': 'Christophe', 'family': 'Curti', 'sequence': 'additional', 'affiliation': []}, {'given': 'Omar', 'family': 'Khoumeri', 'sequence': 'additional', 'affiliation': []}, {'given': 'Patrice', 'family': 'Vanelle', 'sequence': 'additional', 'affiliation': []}], 'issued': {'date-parts': [[2011, 4]]}, 'publisher': 'Elsevier BV', 'title': ['Efficient one-pot double Buchwald–Hartwig coupling reaction on 5-phenyl-4-phenylsulfonyl-2,3-dihydrofuran derivatives'], 'type': 'journal-article'}, {'DOI': '10.1002/chin.201208093', 'author': [{'given': 'Dong‐Hwan', 'family': 'Lee', 'sequence': 'first', 'affiliation': []}, {'given': 'Abu', 'family': 'Taher', 'sequence': 'additional', 'affiliation': []}, {'given': 'Shahin', 'family': 'Hossain', 'sequence': 'additional', 'affiliation': []}, {'given': 'Myung‐Jong', 'family': 'Jin', 'sequence': 'additional', 'affiliation': []}], 'issued': {'date-parts': [[2012, 1, 27]]}, 'publisher': 'Wiley', 'title': ['ChemInform Abstract: An Efficient and General Method for the Heck and Buchwald—Hartwig Coupling Reactions of Aryl Chlorides.'], 'type': 'journal-article'}, {'DOI': '10.1039/c7qi00125h', 'author': [{'given': 'Alexander', 'family': 'Feyrer', 'sequence': 'first', 'affiliation': [{'name': 'Institute of Inorganic Chemistry'}, {'name': 'Karlsruhe Institute of Technology (KIT)'}, {'name': '76131 Karlsruhe'}, {'name': 'Germany'}]}, {'ORCID': 'http://orcid.org/0000-0002-6615-1712', 'authenticated-orcid': False, 'given': 'Frank', 'family': 'Breher', 'sequence': 'additional', 'affiliation': [{'name': 'Institute of Inorganic Chemistry'}, {'name': 'Karlsruhe Institute of Technology (KIT)'}, {'name': '76131 Karlsruhe'}, {'name': 'Germany'}]}], 'issued': {'date-parts': [[2017]]}, 'publisher': 'Royal Society of Chemistry (RSC)', 'title': ['Palladium complexes of ferrocene-based phosphine ligands as redox-switchable catalysts in Buchwald–Hartwig cross-coupling reactions'], 'type': 'journal-article'}]\n"
     ]
    }
   ],
   "source": [
    "from crossref.restful import Works\n",
    "import json\n",
    "\n",
    "works = Works(timeout=60)\n",
    "\n",
    "# Performing the search for sources on the topic of buchwald-hartwig coupling for 10 papers\n",
    "query_result = works.query(bibliographic='buchwald-hartwig coupling').select('DOI', 'title', 'author', 'type', 'publisher', 'issued').sample(10)\n",
    "\n",
    "results = [item for item in query_result]\n",
    "\n",
    "# Save 100 results including their metadata in a json file\n",
    "with open('buchwald-hartwig_coupling_results.json', 'w') as file:\n",
    "    json.dump(results, file)\n",
    "    \n",
    "print(results)"
   ],
   "metadata": {
    "collapsed": false,
    "ExecuteTime": {
     "end_time": "2024-05-02T08:32:54.733614Z",
     "start_time": "2024-05-02T08:32:50.471013Z"
    }
   },
   "id": "cc5308d55cd0ca40"
  },
  {
   "cell_type": "markdown",
   "source": [
    "### Data mining from an available database\n",
    "\n",
    "There are multiple dataset available which are open for data mining.  To download full text documents from open access libararys the [paperscraper](https://github.com/jannisborn/paperscraper) tool can be used. As an example full text articles from ChemRxiv to the topic of 'buchwald-hartwig coupling' were downloaded."
   ],
   "metadata": {
    "collapsed": false
   },
   "id": "50b5db2aa9224551"
  },
  {
   "cell_type": "code",
   "execution_count": 15,
   "outputs": [
    {
     "name": "stderr",
     "output_type": "stream",
     "text": [
      "23763it [1:24:56,  4.66it/s]\n",
      "100%|██████████| 23766/23766 [00:07<00:00, 3167.05it/s]\n"
     ]
    },
    {
     "name": "stdout",
     "output_type": "stream",
     "text": [
      "INFO:paperscraper.get_dumps.utils.chemrxiv.utils:Done, shutting down\n"
     ]
    }
   ],
   "source": [
    "from paperscraper.get_dumps import chemrxiv\n",
    "\n",
    "# Download of the chemrxiv paper dump\n",
    "chemrxiv(save_path='chemrxiv_2020-11-10.jsonl')"
   ],
   "metadata": {
    "collapsed": false,
    "ExecuteTime": {
     "end_time": "2024-05-03T08:43:36.812081Z",
     "start_time": "2024-05-03T07:18:32.213214Z"
    }
   },
   "id": "f0d5406ac59382b6"
  },
  {
   "cell_type": "code",
   "execution_count": 30,
   "outputs": [
    {
     "name": "stderr",
     "output_type": "stream",
     "text": [
      "Processing paper 5/5: 100%|██████████| 5/5 [00:07<00:00,  1.55s/it]\n"
     ]
    }
   ],
   "source": [
    "from paperscraper.xrxiv.xrxiv_query import XRXivQuery\n",
    "from paperscraper.pdf import save_pdf_from_dump\n",
    "import pandas as pd\n",
    "\n",
    "df = pd.read_json('./chemrxiv_2020-11-10.jsonl', lines=True)\n",
    "\n",
    "# define keywords for the paper search\n",
    "synthesis = ['synthesis']\n",
    "reaction = ['buchwald-hartwig']\n",
    "\n",
    "# combine keywords \n",
    "query = [synthesis, reaction]\n",
    "\n",
    "# start searching for relevent papaers in the chemrxiv dump\n",
    "querier = XRXivQuery('./chemrxiv_2020-11-10.jsonl')\n",
    "querier.search_keywords(query, output_filepath='buchwald-hartwig_coupling_ChemRxiv.jsonl')\n",
    "\n",
    "# Save PDFs in current folder and name the files by their DOI\n",
    "save_pdf_from_dump('./buchwald-hartwig_coupling_ChemRxiv.jsonl', pdf_path='./PDFs', key_to_save='doi')"
   ],
   "metadata": {
    "collapsed": false,
    "ExecuteTime": {
     "end_time": "2024-05-03T08:59:37.416083Z",
     "start_time": "2024-05-03T08:59:28.771882Z"
    }
   },
   "id": "d1a10744033d6df1"
  },
  {
   "cell_type": "markdown",
   "source": [
    "### Data annotation\n",
    "\n",
    "To annotate data tools like doccano can help to speed up the process. To use the doccano tool at first a database and account has to be created."
   ],
   "metadata": {
    "collapsed": false
   },
   "id": "8b6c52ba9215179d"
  },
  {
   "cell_type": "code",
   "execution_count": null,
   "outputs": [],
   "source": [
    "#initialize the database \n",
    "$ doccano init\n",
    "$ doccano createuser --username admin --password pass\n",
    "$ doccano webserver --port 8000\n",
    "\n",
    "#start the annotation task\n",
    "$ doccano task"
   ],
   "metadata": {
    "collapsed": false
   },
   "id": "f8787d3c3cc0d5f2"
  },
  {
   "cell_type": "markdown",
   "source": [
    "Afterwards one can access the created [database]( http://0.0.0.0:8000), login with the created account and upload the unannotated articles there. After that one can start annotating the dataset with adding relevant labels to the text of the articles."
   ],
   "metadata": {
    "collapsed": false
   },
   "id": "21bcfee7478b8491"
  }
 ],
 "metadata": {
  "kernelspec": {
   "display_name": "Python 3",
   "language": "python",
   "name": "python3"
  },
  "language_info": {
   "codemirror_mode": {
    "name": "ipython",
    "version": 2
   },
   "file_extension": ".py",
   "mimetype": "text/x-python",
   "name": "python",
   "nbconvert_exporter": "python",
   "pygments_lexer": "ipython2",
   "version": "2.7.6"
  }
 },
 "nbformat": 4,
 "nbformat_minor": 5
}
