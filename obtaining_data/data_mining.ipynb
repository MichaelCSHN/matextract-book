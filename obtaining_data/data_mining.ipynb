{
 "cells": [
  {
   "cell_type": "raw",
   "source": [
    "{#sec-data_mining}"
   ],
   "metadata": {
    "collapsed": false
   },
   "id": "d4c1df9896c69fa5"
  },
  {
   "cell_type": "markdown",
   "source": [
    "### Data mining from an available database\n",
    "\n",
    "There are multiple dataset available which are open for data mining.  To download full text documents from open access libararys the [paperscraper](https://github.com/jannisborn/paperscraper) tool can be used. As an example full text articles from ChemRxiv to the topic of 'buchwald-hartwig coupling' were downloaded."
   ],
   "metadata": {
    "collapsed": false
   },
   "id": "1a69b55434e43e67"
  },
  {
   "cell_type": "code",
   "execution_count": null,
   "outputs": [],
   "source": [
    "from paperscraper.get_dumps import chemrxiv\n",
    "\n",
    "# Download of the chemrxiv paper dump\n",
    "chemrxiv(save_path='chemrxiv_2020-11-10.jsonl')"
   ],
   "metadata": {
    "collapsed": false
   },
   "id": "250aba7a3f3bb866"
  },
  {
   "cell_type": "code",
   "execution_count": null,
   "outputs": [],
   "source": [
    "from paperscraper.xrxiv.xrxiv_query import XRXivQuery\n",
    "from paperscraper.pdf import save_pdf_from_dump\n",
    "import pandas as pd\n",
    "\n",
    "df = pd.read_json('./chemrxiv_2020-11-10.jsonl', lines=True)\n",
    "\n",
    "# define keywords for the paper search\n",
    "synthesis = ['synthesis']\n",
    "reaction = ['buchwald-hartwig']\n",
    "\n",
    "# combine keywords \n",
    "query = [synthesis, reaction]\n",
    "\n",
    "# start searching for relevent papaers in the chemrxiv dump\n",
    "querier = XRXivQuery('./chemrxiv_2020-11-10.jsonl')\n",
    "querier.search_keywords(query, output_filepath='buchwald-hartwig_coupling_ChemRxiv.jsonl')\n",
    "\n",
    "# Save PDFs in current folder and name the files by their DOI\n",
    "save_pdf_from_dump('./buchwald-hartwig_coupling_ChemRxiv.jsonl', pdf_path='./PDFs', key_to_save='doi')"
   ],
   "metadata": {
    "collapsed": false
   },
   "id": "de30d1a7afb79621"
  },
  {
   "cell_type": "markdown",
   "source": [
    "For further steps in the data extraction process annotated data in needed to evaluate the extraction pipeline. Therefore one could use an annotation tool like doccano which is shown in [Chapter @annotation]."
   ],
   "metadata": {
    "collapsed": false
   },
   "id": "373a661fa782bceb"
  }
 ],
 "metadata": {
  "kernelspec": {
   "display_name": "Python 3",
   "language": "python",
   "name": "python3"
  },
  "language_info": {
   "codemirror_mode": {
    "name": "ipython",
    "version": 2
   },
   "file_extension": ".py",
   "mimetype": "text/x-python",
   "name": "python",
   "nbconvert_exporter": "python",
   "pygments_lexer": "ipython2",
   "version": "2.7.6"
  }
 },
 "nbformat": 4,
 "nbformat_minor": 5
}
